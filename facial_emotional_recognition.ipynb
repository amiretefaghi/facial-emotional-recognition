{
  "nbformat": 4,
  "nbformat_minor": 0,
  "metadata": {
    "colab": {
      "name": "face emoji.ipynb",
      "provenance": [],
      "collapsed_sections": []
    },
    "kernelspec": {
      "name": "python3",
      "display_name": "Python 3"
    },
    "accelerator": "GPU"
  },
  "cells": [
    {
      "cell_type": "code",
      "metadata": {
        "colab": {
          "base_uri": "https://localhost:8080/"
        },
        "id": "ZF4XkIjFYV5X",
        "outputId": "1f83ab72-2e74-4b0c-8289-ffd35b21395f"
      },
      "source": [
        "## you can use this cell if you run on colab and ypu want download\r\n",
        "## dataset from kaggle\r\n",
        "\r\n",
        "!pip install -q kaggle\r\n",
        "!mkdir -p ~/.kaggle\r\n",
        "!cp kaggle.json ~/.kaggle/\r\n",
        "!ls ~/.kaggle\r\n",
        "!chmod 600 /root/.kaggle/kaggle.json  # set permission\r\n",
        "!kaggle datasets download -d msambare/fer2013\r\n",
        "!unzip -q fer2013.zip"
      ],
      "execution_count": 1,
      "outputs": [
        {
          "output_type": "stream",
          "text": [
            "kaggle.json\n",
            "Downloading fer2013.zip to /content\n",
            " 94% 57.0M/60.3M [00:00<00:00, 45.7MB/s]\n",
            "100% 60.3M/60.3M [00:00<00:00, 112MB/s] \n"
          ],
          "name": "stdout"
        }
      ]
    },
    {
      "cell_type": "code",
      "metadata": {
        "id": "S6TJbxmCYpUH"
      },
      "source": [
        "import numpy as np\r\n",
        "from numpy import asarray\r\n",
        "import tensorflow as tf\r\n",
        "from tensorflow import keras\r\n",
        "from keras.layers import *\r\n",
        "from sklearn import preprocessing\r\n",
        "import cv2\r\n",
        "import matplotlib.pyplot as plt\r\n",
        "from os import listdir\r\n",
        "from PIL import Image"
      ],
      "execution_count": 1,
      "outputs": []
    },
    {
      "cell_type": "markdown",
      "metadata": {
        "id": "H2Ck70rnrHrj"
      },
      "source": [
        "#Loading Dataset"
      ]
    },
    {
      "cell_type": "code",
      "metadata": {
        "id": "td4Nl2N_ZqWD"
      },
      "source": [
        "train_directory = '/content/train/'\r\n",
        "test_directory = '/content/test/'\r\n",
        "\r\n",
        "num_classes = 7\r\n",
        "\r\n",
        "X_train = []\r\n",
        "y_train = []\r\n",
        "# enumerate files\r\n",
        "for filename in listdir(train_directory):\r\n",
        "  # path\r\n",
        "  path = train_directory + filename + '/'\r\n",
        "\r\n",
        "  for imagename in listdir(path):\r\n",
        "    \r\n",
        "    image_path=path+imagename\r\n",
        "\r\n",
        "    image = Image.open(image_path)\r\n",
        "    image = image.convert('RGB')\r\n",
        "    # convert to array\r\n",
        "    pixels = asarray(image)\r\n",
        "\r\n",
        "    X_train.append(pixels)\r\n",
        "\r\n",
        "    y_train.append(filename)\r\n",
        "\r\n",
        "X_train = asarray(X_train)\r\n",
        "y_train = asarray(y_train)"
      ],
      "execution_count": 2,
      "outputs": []
    },
    {
      "cell_type": "code",
      "metadata": {
        "id": "LBvYQawfdSfA"
      },
      "source": [
        "X_test = []\r\n",
        "y_test = []\r\n",
        "# enumerate files\r\n",
        "for filename in listdir(test_directory):\r\n",
        "  # path\r\n",
        "  path = test_directory + filename + '/'\r\n",
        "\r\n",
        "  for imagename in listdir(path):\r\n",
        "    \r\n",
        "    image_path=path+imagename\r\n",
        "\r\n",
        "    image = Image.open(image_path)\r\n",
        "    image = image.convert('RGB')\r\n",
        "    # convert to array\r\n",
        "    pixels = asarray(image)\r\n",
        "\r\n",
        "    X_test.append(pixels)\r\n",
        "\r\n",
        "    y_test.append(filename)\r\n",
        "\r\n",
        "X_test = asarray(X_test)\r\n",
        "y_test = asarray(y_test)"
      ],
      "execution_count": 3,
      "outputs": []
    },
    {
      "cell_type": "code",
      "metadata": {
        "colab": {
          "base_uri": "https://localhost:8080/",
          "height": 298
        },
        "id": "19PlTjW7eE4l",
        "outputId": "fb821a76-b7ef-4b8e-ef47-959bf198b1c0"
      },
      "source": [
        "plt.imshow(X_train[5])\r\n",
        "plt.xlabel(y_train[5])"
      ],
      "execution_count": 4,
      "outputs": [
        {
          "output_type": "execute_result",
          "data": {
            "text/plain": [
              "Text(0.5, 0, 'neutral')"
            ]
          },
          "metadata": {
            "tags": []
          },
          "execution_count": 4
        },
        {
          "output_type": "display_data",
          "data": {
            "image/png": "[encoded data removed]",
            "text/plain": [
              "<Figure size 432x288 with 1 Axes>"
            ]
          },
          "metadata": {
            "tags": [],
            "needs_background": "light"
          }
        }
      ]
    },
    {
      "cell_type": "code",
      "metadata": {
        "colab": {
          "base_uri": "https://localhost:8080/",
          "height": 298
        },
        "id": "9OBZX7pxeQ-c",
        "outputId": "fac60a86-9670-408c-93f3-c460a4e9709e"
      },
      "source": [
        "plt.imshow(X_test[5])\r\n",
        "plt.xlabel(y_test[5])"
      ],
      "execution_count": 5,
      "outputs": [
        {
          "output_type": "execute_result",
          "data": {
            "text/plain": [
              "Text(0.5, 0, 'neutral')"
            ]
          },
          "metadata": {
            "tags": []
          },
          "execution_count": 5
        },
        {
          "output_type": "display_data",
          "data": {
            "image/png": "[encoded data removed]",
            "text/plain": [
              "<Figure size 432x288 with 1 Axes>"
            ]
          },
          "metadata": {
            "tags": [],
            "needs_background": "light"
          }
        }
      ]
    },
    {
      "cell_type": "code",
      "metadata": {
        "colab": {
          "base_uri": "https://localhost:8080/"
        },
        "id": "Ztg2e5ggeZUl",
        "outputId": "1541c952-67a5-48da-df26-2d3c5fde848a"
      },
      "source": [
        "X_train.shape"
      ],
      "execution_count": 6,
      "outputs": [
        {
          "output_type": "execute_result",
          "data": {
            "text/plain": [
              "(28709, 48, 48, 3)"
            ]
          },
          "metadata": {
            "tags": []
          },
          "execution_count": 6
        }
      ]
    },
    {
      "cell_type": "code",
      "metadata": {
        "id": "R4jsef0hezVL",
        "colab": {
          "base_uri": "https://localhost:8080/"
        },
        "outputId": "db42a4d7-21e9-499d-b111-753abeea343c"
      },
      "source": [
        "X_test.shape"
      ],
      "execution_count": 7,
      "outputs": [
        {
          "output_type": "execute_result",
          "data": {
            "text/plain": [
              "(7178, 48, 48, 3)"
            ]
          },
          "metadata": {
            "tags": []
          },
          "execution_count": 7
        }
      ]
    },
    {
      "cell_type": "markdown",
      "metadata": {
        "id": "glih8I50rNdE"
      },
      "source": [
        "## Preprocessing Dataset"
      ]
    },
    {
      "cell_type": "code",
      "metadata": {
        "id": "9Npef_Fue3lN"
      },
      "source": [
        "le = preprocessing.LabelEncoder()"
      ],
      "execution_count": 8,
      "outputs": []
    },
    {
      "cell_type": "code",
      "metadata": {
        "id": "gjC2rCpclfMe"
      },
      "source": [
        "y_train_encode = le.fit_transform(y_train)\r\n",
        "y_train_binarizer = keras.utils.to_categorical(y_train_encode,num_classes=num_classes)"
      ],
      "execution_count": 9,
      "outputs": []
    },
    {
      "cell_type": "code",
      "metadata": {
        "colab": {
          "base_uri": "https://localhost:8080/"
        },
        "id": "zszQzlJKlmqp",
        "outputId": "79c8424b-33d6-4c83-b337-86f8a4398579"
      },
      "source": [
        "print(y_train_encode)\r\n",
        "print(y_train_binarizer)\r\n",
        "print(y_train)\r\n",
        "print(np.argmax(y_train_binarizer,axis=1))\r\n",
        "print(le.inverse_transform(np.argmax(y_train_binarizer,axis=1)))"
      ],
      "execution_count": 10,
      "outputs": [
        {
          "output_type": "stream",
          "text": [
            "[4 4 4 ... 3 3 3]\n",
            "[[0. 0. 0. ... 1. 0. 0.]\n",
            " [0. 0. 0. ... 1. 0. 0.]\n",
            " [0. 0. 0. ... 1. 0. 0.]\n",
            " ...\n",
            " [0. 0. 0. ... 0. 0. 0.]\n",
            " [0. 0. 0. ... 0. 0. 0.]\n",
            " [0. 0. 0. ... 0. 0. 0.]]\n",
            "['neutral' 'neutral' 'neutral' ... 'happy' 'happy' 'happy']\n",
            "[4 4 4 ... 3 3 3]\n",
            "['neutral' 'neutral' 'neutral' ... 'happy' 'happy' 'happy']\n"
          ],
          "name": "stdout"
        }
      ]
    },
    {
      "cell_type": "code",
      "metadata": {
        "id": "Ufi3KbDjmxHR"
      },
      "source": [
        "y_test_encode = le.transform(y_test)\r\n",
        "y_test_binarizer = keras.utils.to_categorical(y_test_encode,num_classes=num_classes)"
      ],
      "execution_count": 11,
      "outputs": []
    },
    {
      "cell_type": "code",
      "metadata": {
        "id": "6Iz0Jy0jpVlk"
      },
      "source": [
        "indx = np.arange(len(X_train))\r\n",
        "np.random.shuffle(indx)\r\n",
        "\r\n",
        "X_train = X_train[indx]\r\n",
        "y_train_binarizer = y_train_binarizer[indx]"
      ],
      "execution_count": 12,
      "outputs": []
    },
    {
      "cell_type": "code",
      "metadata": {
        "id": "y-Dj939NrDT7"
      },
      "source": [
        "X_train = X_train.astype('float')\r\n",
        "\r\n",
        "# mean , std = X_train.mean() , X_train.std()\r\n",
        "\r\n",
        "# X_train = (X_train - mean) / std\r\n",
        "\r\n",
        "X_train = X_train/127.5 - 1\r\n",
        "\r\n",
        "X_test = X_test.astype('float')\r\n",
        "\r\n",
        "# mean , std = X_test.mean() , X_test.std()\r\n",
        "\r\n",
        "# X_test = (X_test - mean) / std\r\n",
        "\r\n",
        "X_test = X_test/127.5 - 1"
      ],
      "execution_count": 13,
      "outputs": []
    },
    {
      "cell_type": "markdown",
      "metadata": {
        "id": "prYGYHQEryRR"
      },
      "source": [
        "# Build CNN model"
      ]
    },
    {
      "cell_type": "code",
      "metadata": {
        "id": "p184Q9NtrvKk"
      },
      "source": [
        "input_shape = (X_train.shape[1],X_train.shape[2],X_train.shape[3])\r\n",
        "model = keras.models.Sequential([\r\n",
        "                                 Input(shape = input_shape),\r\n",
        "                                 Conv2D(16,kernel_size=(3,3),\r\n",
        "                                        # kernel_regularizer='l2',\r\n",
        "                                        kernel_initializer='he_normal'),\r\n",
        "                                #  BatchNormalization(),\r\n",
        "                                 Activation('relu'),\r\n",
        "                                 Conv2D(32,kernel_size=(3,3),\r\n",
        "                                        # kernel_regularizer='l2',\r\n",
        "                                        kernel_initializer='he_normal'),\r\n",
        "                                 BatchNormalization(),\r\n",
        "                                 Activation('relu'),\r\n",
        "                                 MaxPooling2D(pool_size=(2,2)),\r\n",
        "                                 Conv2D(64,kernel_size=(3,3),\r\n",
        "                                        # kernel_regularizer='l2',\r\n",
        "                                        kernel_initializer='he_normal'),\r\n",
        "                                #  BatchNormalization(),\r\n",
        "                                 Activation('relu'),\r\n",
        "                                 Conv2D(64,kernel_size=(3,3),\r\n",
        "                                        # kernel_regularizer='l2',\r\n",
        "                                        kernel_initializer='he_normal'),\r\n",
        "                                #  BatchNormalization(),\r\n",
        "                                 Activation('relu'),\r\n",
        "                                 MaxPooling2D(pool_size=(2,2)),\r\n",
        "                                 Conv2D(128,kernel_size=(3,3),\r\n",
        "                                        # kernel_regularizer='l2',\r\n",
        "                                        kernel_initializer='he_normal'),\r\n",
        "                                #  BatchNormalization(),\r\n",
        "                                 Activation('relu'),\r\n",
        "                                 Conv2D(128,kernel_size=(3,3),\r\n",
        "                                        # kernel_regularizer='l2',\r\n",
        "                                        kernel_initializer='he_normal'),\r\n",
        "                                #  BatchNormalization(),\r\n",
        "                                 Activation('relu'),\r\n",
        "                                 AveragePooling2D(),\r\n",
        "                                 Flatten(),\r\n",
        "                                 Dense(1024,kernel_initializer='he_normal'),\r\n",
        "                                 Activation('relu'),\r\n",
        "                                 Dropout(0.5),\r\n",
        "                                 Dense(num_classes,activation='softmax')\r\n",
        "])"
      ],
      "execution_count": 14,
      "outputs": []
    },
    {
      "cell_type": "code",
      "metadata": {
        "colab": {
          "base_uri": "https://localhost:8080/"
        },
        "id": "lDFoIil4v1IG",
        "outputId": "0e0776ac-801f-4457-e9a0-c71c82f1b96d"
      },
      "source": [
        "learning_rate = 0.001\r\n",
        "learning_rates = keras.optimizers.schedules.PiecewiseConstantDecay([5000,7500,10000],\r\n",
        "                                                                   [learning_rate,learning_rate/0.1,learning_rate/0.01,learning_rate/0.001])\r\n",
        "optimizer = keras.optimizers.Adam(learning_rate=learning_rate,decay=1e-6)\r\n",
        "model.compile(optimizer=optimizer,loss=keras.losses.CategoricalCrossentropy(),metrics=['accuracy'])\r\n",
        "\r\n",
        "model.summary()\r\n"
      ],
      "execution_count": 15,
      "outputs": [
        {
          "output_type": "stream",
          "text": [
            "Model: \"sequential\"\n",
            "_________________________________________________________________\n",
            "Layer (type)                 Output Shape              Param #   \n",
            "=================================================================\n",
            "conv2d (Conv2D)              (None, 46, 46, 16)        448       \n",
            "_________________________________________________________________\n",
            "activation (Activation)      (None, 46, 46, 16)        0         \n",
            "_________________________________________________________________\n",
            "conv2d_1 (Conv2D)            (None, 44, 44, 32)        4640      \n",
            "_________________________________________________________________\n",
            "batch_normalization (BatchNo (None, 44, 44, 32)        128       \n",
            "_________________________________________________________________\n",
            "activation_1 (Activation)    (None, 44, 44, 32)        0         \n",
            "_________________________________________________________________\n",
            "max_pooling2d (MaxPooling2D) (None, 22, 22, 32)        0         \n",
            "_________________________________________________________________\n",
            "conv2d_2 (Conv2D)            (None, 20, 20, 64)        18496     \n",
            "_________________________________________________________________\n",
            "activation_2 (Activation)    (None, 20, 20, 64)        0         \n",
            "_________________________________________________________________\n",
            "conv2d_3 (Conv2D)            (None, 18, 18, 64)        36928     \n",
            "_________________________________________________________________\n",
            "activation_3 (Activation)    (None, 18, 18, 64)        0         \n",
            "_________________________________________________________________\n",
            "max_pooling2d_1 (MaxPooling2 (None, 9, 9, 64)          0         \n",
            "_________________________________________________________________\n",
            "conv2d_4 (Conv2D)            (None, 7, 7, 128)         73856     \n",
            "_________________________________________________________________\n",
            "activation_4 (Activation)    (None, 7, 7, 128)         0         \n",
            "_________________________________________________________________\n",
            "conv2d_5 (Conv2D)            (None, 5, 5, 128)         147584    \n",
            "_________________________________________________________________\n",
            "activation_5 (Activation)    (None, 5, 5, 128)         0         \n",
            "_________________________________________________________________\n",
            "average_pooling2d (AveragePo (None, 2, 2, 128)         0         \n",
            "_________________________________________________________________\n",
            "flatten (Flatten)            (None, 512)               0         \n",
            "_________________________________________________________________\n",
            "dense (Dense)                (None, 1024)              525312    \n",
            "_________________________________________________________________\n",
            "activation_6 (Activation)    (None, 1024)              0         \n",
            "_________________________________________________________________\n",
            "dropout (Dropout)            (None, 1024)              0         \n",
            "_________________________________________________________________\n",
            "dense_1 (Dense)              (None, 7)                 7175      \n",
            "=================================================================\n",
            "Total params: 814,567\n",
            "Trainable params: 814,503\n",
            "Non-trainable params: 64\n",
            "_________________________________________________________________\n"
          ],
          "name": "stdout"
        }
      ]
    },
    {
      "cell_type": "code",
      "metadata": {
        "id": "fJ-0ZryiwsEI"
      },
      "source": [
        "datagen = keras.preprocessing.image.ImageDataGenerator(\r\n",
        "          featurewise_center=False, samplewise_center=False,\r\n",
        "          featurewise_std_normalization=False, samplewise_std_normalization=False,\r\n",
        "          zca_whitening=False, zca_epsilon=1e-06, rotation_range=10.0, width_shift_range=0.125,\r\n",
        "          height_shift_range=0.125, brightness_range=None, shear_range=0.0, zoom_range=0.0,\r\n",
        "          channel_shift_range=0.0, fill_mode='nearest', cval=0.0,\r\n",
        "          horizontal_flip=True, vertical_flip=False, rescale=None,\r\n",
        "          preprocessing_function=None, data_format=None, validation_split=0.0, dtype=None\r\n",
        "\r\n",
        "      )\r\n",
        "\r\n",
        "datagen.fit(X_train)"
      ],
      "execution_count": 17,
      "outputs": []
    },
    {
      "cell_type": "code",
      "metadata": {
        "colab": {
          "base_uri": "https://localhost:8080/"
        },
        "id": "ez0QsBEHxigm",
        "outputId": "29877d76-214a-4f83-e9e4-3e736926a07e"
      },
      "source": [
        "model.fit(datagen.flow(X_train,y=y_train_binarizer,batch_size=128),\r\n",
        "          epochs = 60 , validation_data=(X_test,y_test_binarizer),\r\n",
        "          workers = 4)"
      ],
      "execution_count": 18,
      "outputs": [
        {
          "output_type": "stream",
          "text": [
            "Epoch 1/60\n",
            "225/225 [==============================] - 26s 102ms/step - loss: 1.8370 - accuracy: 0.2476 - val_loss: 1.6698 - val_accuracy: 0.3324\n",
            "Epoch 2/60\n",
            "225/225 [==============================] - 23s 101ms/step - loss: 1.6419 - accuracy: 0.3466 - val_loss: 1.4619 - val_accuracy: 0.4401\n",
            "Epoch 3/60\n",
            "225/225 [==============================] - 23s 100ms/step - loss: 1.4916 - accuracy: 0.4217 - val_loss: 1.3510 - val_accuracy: 0.4854\n",
            "Epoch 4/60\n",
            "225/225 [==============================] - 23s 100ms/step - loss: 1.3899 - accuracy: 0.4735 - val_loss: 1.2417 - val_accuracy: 0.5294\n",
            "Epoch 5/60\n",
            "225/225 [==============================] - 23s 100ms/step - loss: 1.3173 - accuracy: 0.4914 - val_loss: 1.2688 - val_accuracy: 0.5125\n",
            "Epoch 6/60\n",
            "225/225 [==============================] - 23s 101ms/step - loss: 1.2602 - accuracy: 0.5200 - val_loss: 1.1886 - val_accuracy: 0.5397\n",
            "Epoch 7/60\n",
            "225/225 [==============================] - 23s 100ms/step - loss: 1.2200 - accuracy: 0.5398 - val_loss: 1.1450 - val_accuracy: 0.5680\n",
            "Epoch 8/60\n",
            "225/225 [==============================] - 23s 99ms/step - loss: 1.2083 - accuracy: 0.5421 - val_loss: 1.1739 - val_accuracy: 0.5599\n",
            "Epoch 9/60\n",
            "225/225 [==============================] - 23s 100ms/step - loss: 1.1807 - accuracy: 0.5530 - val_loss: 1.1315 - val_accuracy: 0.5734\n",
            "Epoch 10/60\n",
            "225/225 [==============================] - 23s 101ms/step - loss: 1.1646 - accuracy: 0.5652 - val_loss: 1.1077 - val_accuracy: 0.5836\n",
            "Epoch 11/60\n",
            "225/225 [==============================] - 23s 99ms/step - loss: 1.1350 - accuracy: 0.5718 - val_loss: 1.1272 - val_accuracy: 0.5690\n",
            "Epoch 12/60\n",
            "225/225 [==============================] - 23s 99ms/step - loss: 1.1134 - accuracy: 0.5779 - val_loss: 1.1073 - val_accuracy: 0.5797\n",
            "Epoch 13/60\n",
            "225/225 [==============================] - 23s 100ms/step - loss: 1.0986 - accuracy: 0.5820 - val_loss: 1.1108 - val_accuracy: 0.5805\n",
            "Epoch 14/60\n",
            "225/225 [==============================] - 23s 100ms/step - loss: 1.0886 - accuracy: 0.5877 - val_loss: 1.1194 - val_accuracy: 0.5854\n",
            "Epoch 15/60\n",
            "225/225 [==============================] - 23s 101ms/step - loss: 1.0722 - accuracy: 0.5933 - val_loss: 1.0920 - val_accuracy: 0.5860\n",
            "Epoch 16/60\n",
            "225/225 [==============================] - 23s 100ms/step - loss: 1.0682 - accuracy: 0.5978 - val_loss: 1.0773 - val_accuracy: 0.5986\n",
            "Epoch 17/60\n",
            "225/225 [==============================] - 23s 100ms/step - loss: 1.0583 - accuracy: 0.6044 - val_loss: 1.0783 - val_accuracy: 0.5996\n",
            "Epoch 18/60\n",
            "225/225 [==============================] - 23s 99ms/step - loss: 1.0467 - accuracy: 0.6003 - val_loss: 1.0687 - val_accuracy: 0.6017\n",
            "Epoch 19/60\n",
            "225/225 [==============================] - 23s 99ms/step - loss: 1.0247 - accuracy: 0.6196 - val_loss: 1.0515 - val_accuracy: 0.6070\n",
            "Epoch 20/60\n",
            "225/225 [==============================] - 23s 100ms/step - loss: 1.0255 - accuracy: 0.6125 - val_loss: 1.0629 - val_accuracy: 0.6004\n",
            "Epoch 21/60\n",
            "225/225 [==============================] - 23s 100ms/step - loss: 1.0139 - accuracy: 0.6235 - val_loss: 1.0402 - val_accuracy: 0.6112\n",
            "Epoch 22/60\n",
            "225/225 [==============================] - 23s 101ms/step - loss: 1.0028 - accuracy: 0.6191 - val_loss: 1.0814 - val_accuracy: 0.5997\n",
            "Epoch 23/60\n",
            "225/225 [==============================] - 23s 100ms/step - loss: 1.0074 - accuracy: 0.6221 - val_loss: 1.0333 - val_accuracy: 0.6162\n",
            "Epoch 24/60\n",
            "225/225 [==============================] - 23s 102ms/step - loss: 0.9937 - accuracy: 0.6256 - val_loss: 1.0885 - val_accuracy: 0.6014\n",
            "Epoch 25/60\n",
            "225/225 [==============================] - 23s 101ms/step - loss: 0.9882 - accuracy: 0.6294 - val_loss: 1.0416 - val_accuracy: 0.6135\n",
            "Epoch 26/60\n",
            "225/225 [==============================] - 23s 100ms/step - loss: 0.9877 - accuracy: 0.6292 - val_loss: 1.0872 - val_accuracy: 0.6010\n",
            "Epoch 27/60\n",
            "225/225 [==============================] - 23s 100ms/step - loss: 0.9738 - accuracy: 0.6323 - val_loss: 1.0560 - val_accuracy: 0.6060\n",
            "Epoch 28/60\n",
            "225/225 [==============================] - 23s 101ms/step - loss: 0.9657 - accuracy: 0.6386 - val_loss: 1.0444 - val_accuracy: 0.6110\n",
            "Epoch 29/60\n",
            "225/225 [==============================] - 23s 100ms/step - loss: 0.9533 - accuracy: 0.6398 - val_loss: 1.0635 - val_accuracy: 0.6148\n",
            "Epoch 30/60\n",
            "225/225 [==============================] - 23s 100ms/step - loss: 0.9512 - accuracy: 0.6381 - val_loss: 1.0429 - val_accuracy: 0.6124\n",
            "Epoch 31/60\n",
            "225/225 [==============================] - 23s 101ms/step - loss: 0.9498 - accuracy: 0.6416 - val_loss: 1.0296 - val_accuracy: 0.6211\n",
            "Epoch 32/60\n",
            "225/225 [==============================] - 23s 99ms/step - loss: 0.9384 - accuracy: 0.6456 - val_loss: 1.0691 - val_accuracy: 0.6148\n",
            "Epoch 33/60\n",
            "225/225 [==============================] - 23s 100ms/step - loss: 0.9281 - accuracy: 0.6482 - val_loss: 1.0267 - val_accuracy: 0.6147\n",
            "Epoch 34/60\n",
            "225/225 [==============================] - 23s 99ms/step - loss: 0.9216 - accuracy: 0.6497 - val_loss: 1.0420 - val_accuracy: 0.6159\n",
            "Epoch 35/60\n",
            "225/225 [==============================] - 22s 98ms/step - loss: 0.9279 - accuracy: 0.6492 - val_loss: 1.0371 - val_accuracy: 0.6250\n",
            "Epoch 36/60\n",
            "225/225 [==============================] - 23s 99ms/step - loss: 0.9190 - accuracy: 0.6520 - val_loss: 1.0468 - val_accuracy: 0.6087\n",
            "Epoch 37/60\n",
            "225/225 [==============================] - 23s 98ms/step - loss: 0.9188 - accuracy: 0.6547 - val_loss: 1.0412 - val_accuracy: 0.6195\n",
            "Epoch 38/60\n",
            "225/225 [==============================] - 23s 99ms/step - loss: 0.9118 - accuracy: 0.6534 - val_loss: 1.0454 - val_accuracy: 0.6134\n",
            "Epoch 39/60\n",
            "225/225 [==============================] - 23s 101ms/step - loss: 0.8987 - accuracy: 0.6671 - val_loss: 1.0466 - val_accuracy: 0.6229\n",
            "Epoch 40/60\n",
            "225/225 [==============================] - 23s 99ms/step - loss: 0.8914 - accuracy: 0.6646 - val_loss: 1.0613 - val_accuracy: 0.6140\n",
            "Epoch 41/60\n",
            "225/225 [==============================] - 23s 100ms/step - loss: 0.8852 - accuracy: 0.6680 - val_loss: 1.0391 - val_accuracy: 0.6240\n",
            "Epoch 42/60\n",
            "225/225 [==============================] - 23s 101ms/step - loss: 0.9002 - accuracy: 0.6638 - val_loss: 1.0670 - val_accuracy: 0.6187\n",
            "Epoch 43/60\n",
            "225/225 [==============================] - 23s 99ms/step - loss: 0.8734 - accuracy: 0.6759 - val_loss: 1.0514 - val_accuracy: 0.6173\n",
            "Epoch 44/60\n",
            "225/225 [==============================] - 23s 99ms/step - loss: 0.8748 - accuracy: 0.6717 - val_loss: 1.0431 - val_accuracy: 0.6223\n",
            "Epoch 45/60\n",
            "225/225 [==============================] - 23s 100ms/step - loss: 0.8767 - accuracy: 0.6723 - val_loss: 1.0709 - val_accuracy: 0.6206\n",
            "Epoch 46/60\n",
            "225/225 [==============================] - 23s 99ms/step - loss: 0.8706 - accuracy: 0.6712 - val_loss: 1.0483 - val_accuracy: 0.6337\n",
            "Epoch 47/60\n",
            "225/225 [==============================] - 23s 99ms/step - loss: 0.8810 - accuracy: 0.6681 - val_loss: 1.0562 - val_accuracy: 0.6212\n",
            "Epoch 48/60\n",
            "225/225 [==============================] - 23s 99ms/step - loss: 0.8615 - accuracy: 0.6756 - val_loss: 1.0254 - val_accuracy: 0.6258\n",
            "Epoch 49/60\n",
            "225/225 [==============================] - 23s 100ms/step - loss: 0.8664 - accuracy: 0.6762 - val_loss: 1.0336 - val_accuracy: 0.6279\n",
            "Epoch 50/60\n",
            "225/225 [==============================] - 22s 98ms/step - loss: 0.8377 - accuracy: 0.6839 - val_loss: 1.0423 - val_accuracy: 0.6188\n",
            "Epoch 51/60\n",
            "225/225 [==============================] - 23s 102ms/step - loss: 0.8467 - accuracy: 0.6832 - val_loss: 1.0596 - val_accuracy: 0.6232\n",
            "Epoch 52/60\n",
            "225/225 [==============================] - 23s 100ms/step - loss: 0.8345 - accuracy: 0.6851 - val_loss: 1.0395 - val_accuracy: 0.6223\n",
            "Epoch 53/60\n",
            "225/225 [==============================] - 23s 100ms/step - loss: 0.8410 - accuracy: 0.6841 - val_loss: 1.0745 - val_accuracy: 0.6294\n",
            "Epoch 54/60\n",
            "225/225 [==============================] - 22s 98ms/step - loss: 0.8396 - accuracy: 0.6826 - val_loss: 1.0413 - val_accuracy: 0.6271\n",
            "Epoch 55/60\n",
            "225/225 [==============================] - 23s 100ms/step - loss: 0.8223 - accuracy: 0.6916 - val_loss: 1.0630 - val_accuracy: 0.6259\n",
            "Epoch 56/60\n",
            "225/225 [==============================] - 23s 99ms/step - loss: 0.8267 - accuracy: 0.6908 - val_loss: 1.0684 - val_accuracy: 0.6290\n",
            "Epoch 57/60\n",
            "225/225 [==============================] - 23s 99ms/step - loss: 0.8132 - accuracy: 0.6942 - val_loss: 1.0403 - val_accuracy: 0.6268\n",
            "Epoch 58/60\n",
            "225/225 [==============================] - 22s 98ms/step - loss: 0.8253 - accuracy: 0.6869 - val_loss: 1.0486 - val_accuracy: 0.6264\n",
            "Epoch 59/60\n",
            "225/225 [==============================] - 23s 102ms/step - loss: 0.8252 - accuracy: 0.6864 - val_loss: 1.0464 - val_accuracy: 0.6374\n",
            "Epoch 60/60\n",
            "225/225 [==============================] - 23s 99ms/step - loss: 0.7999 - accuracy: 0.7010 - val_loss: 1.0567 - val_accuracy: 0.6349\n"
          ],
          "name": "stdout"
        },
        {
          "output_type": "execute_result",
          "data": {
            "text/plain": [
              "<tensorflow.python.keras.callbacks.History at 0x7efca05b7e10>"
            ]
          },
          "metadata": {
            "tags": []
          },
          "execution_count": 18
        }
      ]
    },
    {
      "cell_type": "code",
      "metadata": {
        "colab": {
          "base_uri": "https://localhost:8080/"
        },
        "id": "-QiFViAZ4Nxl",
        "outputId": "696006a7-735c-47a5-b0c5-f6ce0c70db20"
      },
      "source": [
        "result = model.evaluate(x=X_test,y=y_test_binarizer)\r\n",
        "print(f'test accuracy = {result[1]*100}')"
      ],
      "execution_count": 29,
      "outputs": [
        {
          "output_type": "stream",
          "text": [
            "225/225 [==============================] - 1s 4ms/step - loss: 1.0567 - accuracy: 0.6349\n",
            "test accuracy = 63.48565220832825\n"
          ],
          "name": "stdout"
        }
      ]
    },
    {
      "cell_type": "code",
      "metadata": {
        "id": "o_au_5D54k_P"
      },
      "source": [
        ""
      ],
      "execution_count": null,
      "outputs": []
    }
  ]
}